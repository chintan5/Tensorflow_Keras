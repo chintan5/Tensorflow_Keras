{
 "cells": [
  {
   "cell_type": "markdown",
   "metadata": {},
   "source": [
    "# Sarcasm dataset"
   ]
  },
  {
   "cell_type": "markdown",
   "metadata": {},
   "source": [
    "# Problem Statement :\n",
    "Predicting if the sentences are sarcastic"
   ]
  },
  {
   "cell_type": "markdown",
   "metadata": {},
   "source": [
    "# Technicalities used :\n",
    "\n",
    "# pandas \n",
    "# numpy \n",
    "# tensorflow\n",
    "# keras\n",
    "# neural nets"
   ]
  },
  {
   "cell_type": "code",
   "execution_count": 1,
   "metadata": {},
   "outputs": [
    {
     "data": {
      "text/html": [
       "<div>\n",
       "<style scoped>\n",
       "    .dataframe tbody tr th:only-of-type {\n",
       "        vertical-align: middle;\n",
       "    }\n",
       "\n",
       "    .dataframe tbody tr th {\n",
       "        vertical-align: top;\n",
       "    }\n",
       "\n",
       "    .dataframe thead th {\n",
       "        text-align: right;\n",
       "    }\n",
       "</style>\n",
       "<table border=\"1\" class=\"dataframe\">\n",
       "  <thead>\n",
       "    <tr style=\"text-align: right;\">\n",
       "      <th></th>\n",
       "      <th>article_link</th>\n",
       "      <th>headline</th>\n",
       "      <th>is_sarcastic</th>\n",
       "    </tr>\n",
       "  </thead>\n",
       "  <tbody>\n",
       "    <tr>\n",
       "      <th>0</th>\n",
       "      <td>https://www.huffingtonpost.com/entry/versace-b...</td>\n",
       "      <td>former versace store clerk sues over secret 'b...</td>\n",
       "      <td>0</td>\n",
       "    </tr>\n",
       "    <tr>\n",
       "      <th>1</th>\n",
       "      <td>https://www.huffingtonpost.com/entry/roseanne-...</td>\n",
       "      <td>the 'roseanne' revival catches up to our thorn...</td>\n",
       "      <td>0</td>\n",
       "    </tr>\n",
       "    <tr>\n",
       "      <th>2</th>\n",
       "      <td>https://local.theonion.com/mom-starting-to-fea...</td>\n",
       "      <td>mom starting to fear son's web series closest ...</td>\n",
       "      <td>1</td>\n",
       "    </tr>\n",
       "    <tr>\n",
       "      <th>3</th>\n",
       "      <td>https://politics.theonion.com/boehner-just-wan...</td>\n",
       "      <td>boehner just wants wife to listen, not come up...</td>\n",
       "      <td>1</td>\n",
       "    </tr>\n",
       "    <tr>\n",
       "      <th>4</th>\n",
       "      <td>https://www.huffingtonpost.com/entry/jk-rowlin...</td>\n",
       "      <td>j.k. rowling wishes snape happy birthday in th...</td>\n",
       "      <td>0</td>\n",
       "    </tr>\n",
       "  </tbody>\n",
       "</table>\n",
       "</div>"
      ],
      "text/plain": [
       "                                        article_link  \\\n",
       "0  https://www.huffingtonpost.com/entry/versace-b...   \n",
       "1  https://www.huffingtonpost.com/entry/roseanne-...   \n",
       "2  https://local.theonion.com/mom-starting-to-fea...   \n",
       "3  https://politics.theonion.com/boehner-just-wan...   \n",
       "4  https://www.huffingtonpost.com/entry/jk-rowlin...   \n",
       "\n",
       "                                            headline  is_sarcastic  \n",
       "0  former versace store clerk sues over secret 'b...             0  \n",
       "1  the 'roseanne' revival catches up to our thorn...             0  \n",
       "2  mom starting to fear son's web series closest ...             1  \n",
       "3  boehner just wants wife to listen, not come up...             1  \n",
       "4  j.k. rowling wishes snape happy birthday in th...             0  "
      ]
     },
     "execution_count": 1,
     "metadata": {},
     "output_type": "execute_result"
    }
   ],
   "source": [
    "import pandas as pd\n",
    "df = pd.read_json(\"Sarcasm_Headlines_Dataset.json\", lines=True)\n",
    "df.head()"
   ]
  },
  {
   "cell_type": "code",
   "execution_count": 4,
   "metadata": {
    "scrolled": true
   },
   "outputs": [],
   "source": [
    "## JUST FOR FUN: How you can split the words and remove special characters using re:\n",
    "import re\n",
    "for i in df['article_link']:\n",
    "    article = re.split('[:/-''_]',i)\n",
    "    list1 = list(article)"
   ]
  },
  {
   "cell_type": "code",
   "execution_count": 6,
   "metadata": {},
   "outputs": [
    {
     "data": {
      "text/plain": [
       "0    14985\n",
       "1    11724\n",
       "Name: is_sarcastic, dtype: int64"
      ]
     },
     "execution_count": 6,
     "metadata": {},
     "output_type": "execute_result"
    }
   ],
   "source": [
    "df['is_sarcastic'].value_counts()"
   ]
  },
  {
   "cell_type": "code",
   "execution_count": 8,
   "metadata": {},
   "outputs": [
    {
     "data": {
      "text/plain": [
       "<matplotlib.axes._subplots.AxesSubplot at 0x258a52e5e48>"
      ]
     },
     "execution_count": 8,
     "metadata": {},
     "output_type": "execute_result"
    },
    {
     "data": {
      "image/png": "[encoded data removed]",
      "text/plain": [
       "<Figure size 432x288 with 1 Axes>"
      ]
     },
     "metadata": {
      "needs_background": "light"
     },
     "output_type": "display_data"
    }
   ],
   "source": [
    "import seaborn as sns\n",
    "sns.distplot(df['is_sarcastic'])"
   ]
  },
  {
   "cell_type": "code",
   "execution_count": null,
   "metadata": {},
   "outputs": [],
   "source": []
  },
  {
   "cell_type": "code",
   "execution_count": 4,
   "metadata": {},
   "outputs": [
    {
     "data": {
      "text/plain": [
       "(26709, 3)"
      ]
     },
     "execution_count": 4,
     "metadata": {},
     "output_type": "execute_result"
    }
   ],
   "source": [
    "df.shape"
   ]
  },
  {
   "cell_type": "code",
   "execution_count": 5,
   "metadata": {},
   "outputs": [
    {
     "data": {
      "text/plain": [
       "article_link    object\n",
       "headline        object\n",
       "is_sarcastic     int64\n",
       "dtype: object"
      ]
     },
     "execution_count": 5,
     "metadata": {},
     "output_type": "execute_result"
    }
   ],
   "source": [
    "df.dtypes"
   ]
  },
  {
   "cell_type": "markdown",
   "metadata": {},
   "source": [
    "Just  for understanding, how u can split the joined words and and remove special characters\n",
    "import re\n",
    "for i in df['article_link']:\n",
    "    result=re.split('[:/.-'']',i)\n",
    "    a=pd.DataFrame(result)"
   ]
  },
  {
   "cell_type": "code",
   "execution_count": 8,
   "metadata": {},
   "outputs": [],
   "source": [
    "import tensorflow as tf\n",
    "from tensorflow import keras\n",
    "from tensorflow.keras.preprocessing.text import Tokenizer"
   ]
  },
  {
   "cell_type": "code",
   "execution_count": null,
   "metadata": {},
   "outputs": [],
   "source": [
    "tokenizer = Tokenizer()\n",
    "tokenizer.fit_on_texts(df['headline'])\n",
    "word_index = tokenizer.word_index"
   ]
  },
  {
   "cell_type": "code",
   "execution_count": 10,
   "metadata": {},
   "outputs": [
    {
     "name": "stdout",
     "output_type": "stream",
     "text": [
      "29656\n"
     ]
    }
   ],
   "source": [
    "print(len(word_index))"
   ]
  },
  {
   "cell_type": "code",
   "execution_count": 11,
   "metadata": {},
   "outputs": [],
   "source": [
    "sequences = tokenizer.texts_to_sequences(df['headline'])"
   ]
  },
  {
   "cell_type": "code",
   "execution_count": 17,
   "metadata": {},
   "outputs": [
    {
     "data": {
      "text/plain": [
       "[[307, 15114, 678, 3336, 2297, 47, 381, 2575, 15115, 5, 2576, 8433],\n",
       " [3, 8434, 3337, 2745, 21, 1, 165, 8435, 415, 3111, 5, 257, 8, 1001],\n",
       " [144, 837, 1, 906, 1748, 2092, 581, 4718, 220, 142, 38, 45, 1, 10735],\n",
       " [1484, 35, 223, 399, 1, 1831, 28, 318, 21, 9, 2923, 1392, 6968, 967],\n",
       " [766, 718, 4719, 907, 10736, 622, 593, 4, 3, 94, 1308, 91],\n",
       " [10737, 3, 364, 72],\n",
       " [3, 6969, 350, 5, 460, 4273, 2194, 1485],\n",
       " [18, 478, 38, 1167, 30, 154, 1, 98, 82, 17, 157, 5, 31, 351],\n",
       " [248, 3622, 6970, 554, 5273, 1994, 140],\n",
       " [2093, 325, 346, 400, 59, 15116, 5, 3, 3895],\n",
       " [2924, 1679, 4720, 13, 36, 4274, 6971, 4, 2094, 1102],\n",
       " [285, 781, 461, 7, 1555, 1910, 8, 3623],\n",
       " [233, 513, 2925, 12, 8, 928, 225, 368, 1, 4275, 15117, 8436],\n",
       " [237, 3896, 8437, 3338, 37, 234, 15118, 5, 6, 172],\n",
       " [15119, 1393, 664, 650, 4, 326, 2, 1030],\n",
       " [533, 2094, 10738, 122, 10739, 5, 10740, 4721, 1911],\n",
       " [2577,\n",
       "  1394,\n",
       "  382,\n",
       "  44,\n",
       "  3897,\n",
       "  347,\n",
       "  318,\n",
       "  1031,\n",
       "  1,\n",
       "  23,\n",
       "  15120,\n",
       "  19,\n",
       "  1103,\n",
       "  386,\n",
       "  102,\n",
       "  1309],\n",
       " [1680, 8438, 3112, 8439, 19, 6972, 1217],\n",
       " [10741, 856, 1, 1912, 257, 1168, 35, 213, 2746],\n",
       " [3624, 5274, 3113]]"
      ]
     },
     "execution_count": 17,
     "metadata": {},
     "output_type": "execute_result"
    }
   ],
   "source": [
    "sequences[0:20]"
   ]
  },
  {
   "cell_type": "code",
   "execution_count": null,
   "metadata": {},
   "outputs": [],
   "source": []
  },
  {
   "cell_type": "code",
   "execution_count": 47,
   "metadata": {},
   "outputs": [],
   "source": [
    "from tensorflow.keras.preprocessing.sequence import pad_sequences"
   ]
  },
  {
   "cell_type": "code",
   "execution_count": 48,
   "metadata": {},
   "outputs": [],
   "source": [
    "padded = pad_sequences(sequences,padding='post')"
   ]
  },
  {
   "cell_type": "code",
   "execution_count": 49,
   "metadata": {},
   "outputs": [
    {
     "data": {
      "text/plain": [
       "array([[  307, 15114,   678, ...,     0,     0,     0],\n",
       "       [    3,  8434,  3337, ...,     0,     0,     0],\n",
       "       [  144,   837,     1, ...,     0,     0,     0],\n",
       "       ...,\n",
       "       [10734,     8,    67, ...,     0,     0,     0],\n",
       "       [ 1540,   391,  4163, ...,     0,     0,     0],\n",
       "       [29655,  1646,     5, ...,     0,     0,     0]])"
      ]
     },
     "execution_count": 49,
     "metadata": {},
     "output_type": "execute_result"
    }
   ],
   "source": [
    "padded"
   ]
  },
  {
   "cell_type": "code",
   "execution_count": null,
   "metadata": {},
   "outputs": [],
   "source": []
  },
  {
   "cell_type": "code",
   "execution_count": 50,
   "metadata": {},
   "outputs": [
    {
     "name": "stdout",
     "output_type": "stream",
     "text": [
      "[  144   837     1   906  1748  2092   581  4718   220   142    38    45\n",
      "     1 10735     0     0     0     0     0     0     0     0     0     0\n",
      "     0     0     0     0     0     0     0     0     0     0     0     0\n",
      "     0     0     0     0]\n"
     ]
    }
   ],
   "source": [
    "print(padded[2])"
   ]
  },
  {
   "cell_type": "code",
   "execution_count": 51,
   "metadata": {},
   "outputs": [
    {
     "name": "stdout",
     "output_type": "stream",
     "text": [
      "(26709, 40)\n"
     ]
    }
   ],
   "source": [
    "print(padded.shape)"
   ]
  },
  {
   "cell_type": "code",
   "execution_count": 85,
   "metadata": {},
   "outputs": [],
   "source": [
    "vocab_size =100000\n",
    "embedding_dim =16\n",
    "max_length = 40\n",
    "trunc_type = 'post'\n",
    "padding_type ='post'\n",
    "oov_tok = '<OOV>'\n",
    "training_size = 20000"
   ]
  },
  {
   "cell_type": "code",
   "execution_count": 86,
   "metadata": {},
   "outputs": [],
   "source": [
    "reverse_word_index = dict([(value,key) for (key,value) in word_index.items()])"
   ]
  },
  {
   "cell_type": "code",
   "execution_count": 87,
   "metadata": {},
   "outputs": [],
   "source": [
    "\n",
    "\n",
    "model = tf.keras.Sequential([\n",
    "      tf.keras.layers.Embedding(vocab_size,embedding_dim,input_length=max_length), #2d ARRAY or 3d\n",
    "      tf.keras.layers.Flatten(),       # this converts our 3D feature maps to 1D feature vectors\n",
    "      tf.keras.layers.Dense(6,activation='relu'),\n",
    "      tf.keras.layers.Dense(1,activation='sigmoid')\n",
    "])"
   ]
  },
  {
   "cell_type": "code",
   "execution_count": 88,
   "metadata": {},
   "outputs": [
    {
     "name": "stdout",
     "output_type": "stream",
     "text": [
      "Model: \"sequential_6\"\n",
      "_________________________________________________________________\n",
      "Layer (type)                 Output Shape              Param #   \n",
      "=================================================================\n",
      "embedding_6 (Embedding)      (None, 40, 16)            1600000   \n",
      "_________________________________________________________________\n",
      "flatten_6 (Flatten)          (None, 640)               0         \n",
      "_________________________________________________________________\n",
      "dense_12 (Dense)             (None, 6)                 3846      \n",
      "_________________________________________________________________\n",
      "dense_13 (Dense)             (None, 1)                 7         \n",
      "=================================================================\n",
      "Total params: 1,603,853\n",
      "Trainable params: 1,603,853\n",
      "Non-trainable params: 0\n",
      "_________________________________________________________________\n"
     ]
    }
   ],
   "source": [
    "model.compile(loss='binary_crossentropy',optimizer='adam',metrics=['accuracy'])\n",
    "model.summary()"
   ]
  },
  {
   "cell_type": "code",
   "execution_count": 89,
   "metadata": {},
   "outputs": [],
   "source": [
    "from sklearn.model_selection import train_test_split\n",
    "xtrain,xtest,ytrain,ytest = train_test_split(padded,df['is_sarcastic'],test_size=0.30,random_state = 0)"
   ]
  },
  {
   "cell_type": "code",
   "execution_count": 90,
   "metadata": {},
   "outputs": [
    {
     "data": {
      "text/plain": [
       "array([[ 1162,  1800,  1050, ...,     0,     0,     0],\n",
       "       [22431,  1499, 22432, ...,     0,     0,     0],\n",
       "       [   48,    12,     1, ...,     0,     0,     0],\n",
       "       ...,\n",
       "       [ 3891, 13440,   553, ...,     0,     0,     0],\n",
       "       [   18, 13626,  1439, ...,     0,     0,     0],\n",
       "       [ 2146,  2997,  1338, ...,     0,     0,     0]])"
      ]
     },
     "execution_count": 90,
     "metadata": {},
     "output_type": "execute_result"
    }
   ],
   "source": [
    "import numpy as np\n",
    "xtrain= np.asarray(xtrain) \n",
    "ytrain = np.asarray(ytrain)\n",
    "\n",
    "xtrain"
   ]
  },
  {
   "cell_type": "code",
   "execution_count": 91,
   "metadata": {},
   "outputs": [
    {
     "data": {
      "text/plain": [
       "(18696,)"
      ]
     },
     "execution_count": 91,
     "metadata": {},
     "output_type": "execute_result"
    }
   ],
   "source": [
    "ytrain.shape"
   ]
  },
  {
   "cell_type": "code",
   "execution_count": 93,
   "metadata": {},
   "outputs": [
    {
     "name": "stdout",
     "output_type": "stream",
     "text": [
      "Train on 16826 samples, validate on 1870 samples\n",
      "Epoch 1/20\n",
      "16826/16826 [==============================] - 18s 1ms/sample - loss: 4.4459e-04 - accuracy: 1.0000 - val_loss: 0.5450 - val_accuracy: 0.8594\n",
      "Epoch 2/20\n",
      "16826/16826 [==============================] - 19s 1ms/sample - loss: 2.9399e-04 - accuracy: 1.0000 - val_loss: 0.5659 - val_accuracy: 0.8583\n",
      "Epoch 3/20\n",
      "16826/16826 [==============================] - 19s 1ms/sample - loss: 2.0254e-04 - accuracy: 1.0000 - val_loss: 0.5841 - val_accuracy: 0.8583\n",
      "Epoch 4/20\n",
      "16826/16826 [==============================] - 19s 1ms/sample - loss: 1.4101e-04 - accuracy: 1.0000 - val_loss: 0.6020 - val_accuracy: 0.8583\n",
      "Epoch 5/20\n",
      "16826/16826 [==============================] - 19s 1ms/sample - loss: 1.0003e-04 - accuracy: 1.0000 - val_loss: 0.6205 - val_accuracy: 0.8583\n",
      "Epoch 6/20\n",
      "16826/16826 [==============================] - 20s 1ms/sample - loss: 7.1533e-05 - accuracy: 1.0000 - val_loss: 0.6382 - val_accuracy: 0.8578\n",
      "Epoch 7/20\n",
      "16826/16826 [==============================] - 19s 1ms/sample - loss: 5.1219e-05 - accuracy: 1.0000 - val_loss: 0.6570 - val_accuracy: 0.8572\n",
      "Epoch 8/20\n",
      "16826/16826 [==============================] - 19s 1ms/sample - loss: 3.7341e-05 - accuracy: 1.0000 - val_loss: 0.6737 - val_accuracy: 0.8572\n",
      "Epoch 9/20\n",
      "16826/16826 [==============================] - 20s 1ms/sample - loss: 2.7034e-05 - accuracy: 1.0000 - val_loss: 0.6909 - val_accuracy: 0.8578\n",
      "Epoch 10/20\n",
      "16826/16826 [==============================] - 20s 1ms/sample - loss: 1.9778e-05 - accuracy: 1.0000 - val_loss: 0.7085 - val_accuracy: 0.8583\n",
      "Epoch 11/20\n",
      "16826/16826 [==============================] - 24s 1ms/sample - loss: 1.4497e-05 - accuracy: 1.0000 - val_loss: 0.7250 - val_accuracy: 0.8583\n",
      "Epoch 12/20\n",
      "16826/16826 [==============================] - 23s 1ms/sample - loss: 1.0600e-05 - accuracy: 1.0000 - val_loss: 0.7420 - val_accuracy: 0.8588\n",
      "Epoch 13/20\n",
      "16826/16826 [==============================] - 20s 1ms/sample - loss: 7.8036e-06 - accuracy: 1.0000 - val_loss: 0.7588 - val_accuracy: 0.8545\n",
      "Epoch 14/20\n",
      "16826/16826 [==============================] - 20s 1ms/sample - loss: 5.7511e-06 - accuracy: 1.0000 - val_loss: 0.7759 - val_accuracy: 0.8572\n",
      "Epoch 15/20\n",
      "16826/16826 [==============================] - 22s 1ms/sample - loss: 4.2518e-06 - accuracy: 1.0000 - val_loss: 0.7919 - val_accuracy: 0.8583\n",
      "Epoch 16/20\n",
      "16826/16826 [==============================] - 22s 1ms/sample - loss: 3.1484e-06 - accuracy: 1.0000 - val_loss: 0.8082 - val_accuracy: 0.8578\n",
      "Epoch 17/20\n",
      "16826/16826 [==============================] - 23s 1ms/sample - loss: 2.3371e-06 - accuracy: 1.0000 - val_loss: 0.8246 - val_accuracy: 0.8567\n",
      "Epoch 18/20\n",
      "16826/16826 [==============================] - 21s 1ms/sample - loss: 1.7457e-06 - accuracy: 1.0000 - val_loss: 0.8412 - val_accuracy: 0.8567\n",
      "Epoch 19/20\n",
      "16826/16826 [==============================] - 22s 1ms/sample - loss: 1.3037e-06 - accuracy: 1.0000 - val_loss: 0.8578 - val_accuracy: 0.8556\n",
      "Epoch 20/20\n",
      "16826/16826 [==============================] - 21s 1ms/sample - loss: 9.6643e-07 - accuracy: 1.0000 - val_loss: 0.8736 - val_accuracy: 0.8540\n"
     ]
    }
   ],
   "source": [
    "history=model.fit(np.array(xtrain), np.array(ytrain), batch_size=32,\n",
    "          epochs=20, verbose=1, validation_split=0.1)"
   ]
  },
  {
   "cell_type": "code",
   "execution_count": 96,
   "metadata": {},
   "outputs": [],
   "source": [
    "ypredict=model.predict(xtest)"
   ]
  },
  {
   "cell_type": "code",
   "execution_count": 99,
   "metadata": {},
   "outputs": [
    {
     "data": {
      "text/plain": [
       "array([[9.99946237e-01],\n",
       "       [8.27376842e-02],\n",
       "       [1.00000000e+00],\n",
       "       ...,\n",
       "       [1.00000000e+00],\n",
       "       [1.10745255e-07],\n",
       "       [0.00000000e+00]], dtype=float32)"
      ]
     },
     "execution_count": 99,
     "metadata": {},
     "output_type": "execute_result"
    }
   ],
   "source": [
    "ypredict"
   ]
  },
  {
   "cell_type": "code",
   "execution_count": 101,
   "metadata": {},
   "outputs": [
    {
     "data": {
      "text/plain": [
       "0.8538624734805941"
      ]
     },
     "execution_count": 101,
     "metadata": {},
     "output_type": "execute_result"
    }
   ],
   "source": [
    "from sklearn.metrics import accuracy_score\n",
    "\n",
    "accuracy_score(ytest,ypredict.round(),normalize=True)"
   ]
  },
  {
   "cell_type": "markdown",
   "metadata": {},
   "source": [
    "Got an accuracy of 85% which is a good accuracy score "
   ]
  }
 ],
 "metadata": {
  "kernelspec": {
   "display_name": "Python 3",
   "language": "python",
   "name": "python3"
  },
  "language_info": {
   "codemirror_mode": {
    "name": "ipython",
    "version": 3
   },
   "file_extension": ".py",
   "mimetype": "text/x-python",
   "name": "python",
   "nbconvert_exporter": "python",
   "pygments_lexer": "ipython3",
   "version": "3.7.3"
  }
 },
 "nbformat": 4,
 "nbformat_minor": 2
}
